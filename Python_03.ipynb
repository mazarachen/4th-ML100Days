{
  "cells": [
    {
      "cell_type": "markdown",
      "metadata": {
        "id": "view-in-github",
        "colab_type": "text"
      },
      "source": [
        "<a href=\"https://colab.research.google.com/github/mazarachen/4th-ML100Days/blob/master/Python_03.ipynb\" target=\"_parent\"><img src=\"https://colab.research.google.com/assets/colab-badge.svg\" alt=\"Open In Colab\"/></a>"
      ]
    },
    {
      "cell_type": "code",
      "execution_count": 1,
      "metadata": {
        "id": "noS3QQoZl9Ek",
        "outputId": "c28946aa-c766-47e5-f5ce-d87da2bd6d6b",
        "colab": {
          "base_uri": "https://localhost:8080/",
          "height": 576
        }
      },
      "outputs": [
        {
          "output_type": "error",
          "ename": "KeyboardInterrupt",
          "evalue": "ignored",
          "traceback": [
            "\u001b[0;31m---------------------------------------------------------------------------\u001b[0m",
            "\u001b[0;31mKeyboardInterrupt\u001b[0m                         Traceback (most recent call last)",
            "\u001b[0;32m/usr/local/lib/python3.7/dist-packages/ipykernel/kernelbase.py\u001b[0m in \u001b[0;36m_input_request\u001b[0;34m(self, prompt, ident, parent, password)\u001b[0m\n\u001b[1;32m    728\u001b[0m             \u001b[0;32mtry\u001b[0m\u001b[0;34m:\u001b[0m\u001b[0;34m\u001b[0m\u001b[0;34m\u001b[0m\u001b[0m\n\u001b[0;32m--> 729\u001b[0;31m                 \u001b[0mident\u001b[0m\u001b[0;34m,\u001b[0m \u001b[0mreply\u001b[0m \u001b[0;34m=\u001b[0m \u001b[0mself\u001b[0m\u001b[0;34m.\u001b[0m\u001b[0msession\u001b[0m\u001b[0;34m.\u001b[0m\u001b[0mrecv\u001b[0m\u001b[0;34m(\u001b[0m\u001b[0mself\u001b[0m\u001b[0;34m.\u001b[0m\u001b[0mstdin_socket\u001b[0m\u001b[0;34m,\u001b[0m \u001b[0;36m0\u001b[0m\u001b[0;34m)\u001b[0m\u001b[0;34m\u001b[0m\u001b[0;34m\u001b[0m\u001b[0m\n\u001b[0m\u001b[1;32m    730\u001b[0m             \u001b[0;32mexcept\u001b[0m \u001b[0mException\u001b[0m\u001b[0;34m:\u001b[0m\u001b[0;34m\u001b[0m\u001b[0;34m\u001b[0m\u001b[0m\n",
            "\u001b[0;32m/usr/local/lib/python3.7/dist-packages/jupyter_client/session.py\u001b[0m in \u001b[0;36mrecv\u001b[0;34m(self, socket, mode, content, copy)\u001b[0m\n\u001b[1;32m    802\u001b[0m         \u001b[0;32mtry\u001b[0m\u001b[0;34m:\u001b[0m\u001b[0;34m\u001b[0m\u001b[0;34m\u001b[0m\u001b[0m\n\u001b[0;32m--> 803\u001b[0;31m             \u001b[0mmsg_list\u001b[0m \u001b[0;34m=\u001b[0m \u001b[0msocket\u001b[0m\u001b[0;34m.\u001b[0m\u001b[0mrecv_multipart\u001b[0m\u001b[0;34m(\u001b[0m\u001b[0mmode\u001b[0m\u001b[0;34m,\u001b[0m \u001b[0mcopy\u001b[0m\u001b[0;34m=\u001b[0m\u001b[0mcopy\u001b[0m\u001b[0;34m)\u001b[0m\u001b[0;34m\u001b[0m\u001b[0;34m\u001b[0m\u001b[0m\n\u001b[0m\u001b[1;32m    804\u001b[0m         \u001b[0;32mexcept\u001b[0m \u001b[0mzmq\u001b[0m\u001b[0;34m.\u001b[0m\u001b[0mZMQError\u001b[0m \u001b[0;32mas\u001b[0m \u001b[0me\u001b[0m\u001b[0;34m:\u001b[0m\u001b[0;34m\u001b[0m\u001b[0;34m\u001b[0m\u001b[0m\n",
            "\u001b[0;32m/usr/local/lib/python3.7/dist-packages/zmq/sugar/socket.py\u001b[0m in \u001b[0;36mrecv_multipart\u001b[0;34m(self, flags, copy, track)\u001b[0m\n\u001b[1;32m    624\u001b[0m         \"\"\"\n\u001b[0;32m--> 625\u001b[0;31m         \u001b[0mparts\u001b[0m \u001b[0;34m=\u001b[0m \u001b[0;34m[\u001b[0m\u001b[0mself\u001b[0m\u001b[0;34m.\u001b[0m\u001b[0mrecv\u001b[0m\u001b[0;34m(\u001b[0m\u001b[0mflags\u001b[0m\u001b[0;34m,\u001b[0m \u001b[0mcopy\u001b[0m\u001b[0;34m=\u001b[0m\u001b[0mcopy\u001b[0m\u001b[0;34m,\u001b[0m \u001b[0mtrack\u001b[0m\u001b[0;34m=\u001b[0m\u001b[0mtrack\u001b[0m\u001b[0;34m)\u001b[0m\u001b[0;34m]\u001b[0m\u001b[0;34m\u001b[0m\u001b[0;34m\u001b[0m\u001b[0m\n\u001b[0m\u001b[1;32m    626\u001b[0m         \u001b[0;31m# have first part already, only loop while more to receive\u001b[0m\u001b[0;34m\u001b[0m\u001b[0;34m\u001b[0m\u001b[0;34m\u001b[0m\u001b[0m\n",
            "\u001b[0;32mzmq/backend/cython/socket.pyx\u001b[0m in \u001b[0;36mzmq.backend.cython.socket.Socket.recv\u001b[0;34m()\u001b[0m\n",
            "\u001b[0;32mzmq/backend/cython/socket.pyx\u001b[0m in \u001b[0;36mzmq.backend.cython.socket.Socket.recv\u001b[0;34m()\u001b[0m\n",
            "\u001b[0;32mzmq/backend/cython/socket.pyx\u001b[0m in \u001b[0;36mzmq.backend.cython.socket._recv_copy\u001b[0;34m()\u001b[0m\n",
            "\u001b[0;32m/usr/local/lib/python3.7/dist-packages/zmq/backend/cython/checkrc.pxd\u001b[0m in \u001b[0;36mzmq.backend.cython.checkrc._check_rc\u001b[0;34m()\u001b[0m\n",
            "\u001b[0;31mKeyboardInterrupt\u001b[0m: ",
            "\nDuring handling of the above exception, another exception occurred:\n",
            "\u001b[0;31mKeyboardInterrupt\u001b[0m                         Traceback (most recent call last)",
            "\u001b[0;32m<ipython-input-1-3677c2a5da48>\u001b[0m in \u001b[0;36m<module>\u001b[0;34m()\u001b[0m\n\u001b[1;32m      1\u001b[0m \u001b[0;31m#homework 02\u001b[0m\u001b[0;34m\u001b[0m\u001b[0;34m\u001b[0m\u001b[0;34m\u001b[0m\u001b[0m\n\u001b[1;32m      2\u001b[0m \u001b[0;34m\u001b[0m\u001b[0m\n\u001b[0;32m----> 3\u001b[0;31m \u001b[0mHeight\u001b[0m \u001b[0;34m=\u001b[0m \u001b[0mfloat\u001b[0m\u001b[0;34m(\u001b[0m\u001b[0minput\u001b[0m\u001b[0;34m(\u001b[0m\u001b[0;34m\"請輸入身高，單位為公分:\"\u001b[0m\u001b[0;34m)\u001b[0m\u001b[0;34m)\u001b[0m\u001b[0;34m\u001b[0m\u001b[0;34m\u001b[0m\u001b[0m\n\u001b[0m\u001b[1;32m      4\u001b[0m \u001b[0mWeight\u001b[0m \u001b[0;34m=\u001b[0m \u001b[0mfloat\u001b[0m\u001b[0;34m(\u001b[0m\u001b[0minput\u001b[0m\u001b[0;34m(\u001b[0m\u001b[0;34m\"請輸入體重，單位為公斤:\"\u001b[0m\u001b[0;34m)\u001b[0m\u001b[0;34m)\u001b[0m\u001b[0;34m\u001b[0m\u001b[0;34m\u001b[0m\u001b[0m\n\u001b[1;32m      5\u001b[0m \u001b[0;34m\u001b[0m\u001b[0m\n",
            "\u001b[0;32m/usr/local/lib/python3.7/dist-packages/ipykernel/kernelbase.py\u001b[0m in \u001b[0;36mraw_input\u001b[0;34m(self, prompt)\u001b[0m\n\u001b[1;32m    702\u001b[0m             \u001b[0mself\u001b[0m\u001b[0;34m.\u001b[0m\u001b[0m_parent_ident\u001b[0m\u001b[0;34m,\u001b[0m\u001b[0;34m\u001b[0m\u001b[0;34m\u001b[0m\u001b[0m\n\u001b[1;32m    703\u001b[0m             \u001b[0mself\u001b[0m\u001b[0;34m.\u001b[0m\u001b[0m_parent_header\u001b[0m\u001b[0;34m,\u001b[0m\u001b[0;34m\u001b[0m\u001b[0;34m\u001b[0m\u001b[0m\n\u001b[0;32m--> 704\u001b[0;31m             \u001b[0mpassword\u001b[0m\u001b[0;34m=\u001b[0m\u001b[0;32mFalse\u001b[0m\u001b[0;34m,\u001b[0m\u001b[0;34m\u001b[0m\u001b[0;34m\u001b[0m\u001b[0m\n\u001b[0m\u001b[1;32m    705\u001b[0m         )\n\u001b[1;32m    706\u001b[0m \u001b[0;34m\u001b[0m\u001b[0m\n",
            "\u001b[0;32m/usr/local/lib/python3.7/dist-packages/ipykernel/kernelbase.py\u001b[0m in \u001b[0;36m_input_request\u001b[0;34m(self, prompt, ident, parent, password)\u001b[0m\n\u001b[1;32m    732\u001b[0m             \u001b[0;32mexcept\u001b[0m \u001b[0mKeyboardInterrupt\u001b[0m\u001b[0;34m:\u001b[0m\u001b[0;34m\u001b[0m\u001b[0;34m\u001b[0m\u001b[0m\n\u001b[1;32m    733\u001b[0m                 \u001b[0;31m# re-raise KeyboardInterrupt, to truncate traceback\u001b[0m\u001b[0;34m\u001b[0m\u001b[0;34m\u001b[0m\u001b[0;34m\u001b[0m\u001b[0m\n\u001b[0;32m--> 734\u001b[0;31m                 \u001b[0;32mraise\u001b[0m \u001b[0mKeyboardInterrupt\u001b[0m\u001b[0;34m\u001b[0m\u001b[0;34m\u001b[0m\u001b[0m\n\u001b[0m\u001b[1;32m    735\u001b[0m             \u001b[0;32melse\u001b[0m\u001b[0;34m:\u001b[0m\u001b[0;34m\u001b[0m\u001b[0;34m\u001b[0m\u001b[0m\n\u001b[1;32m    736\u001b[0m                 \u001b[0;32mbreak\u001b[0m\u001b[0;34m\u001b[0m\u001b[0;34m\u001b[0m\u001b[0m\n",
            "\u001b[0;31mKeyboardInterrupt\u001b[0m: "
          ]
        }
      ],
      "source": [
        "#homework 02\n",
        "\n",
        "Height = float(input(\"請輸入身高，單位為公分:\"))\n",
        "Weight = float(input(\"請輸入體重，單位為公斤:\"))\n",
        "\n",
        "BMI = Weight/((Height/100)**2)\n",
        "\n",
        "#Status = \"\"\n",
        "\n",
        "if BMI < 18.5:\n",
        "    Status = \"太輕\"\n",
        "elif 18.5<=BMI<25:\n",
        "    Status = \"正常\"\n",
        "elif 25<=BMI<30:\n",
        "    Status = \"過重\"\n",
        "else:\n",
        "    Status = \"肥胖\"\n",
        "\n",
        "print(\"your BMI is \" + str(BMI) + \" 您的體重\" + Status)\n",
        "print(\"your BMI is\" , BMI , \"您的體重\", Status)\n"
      ]
    },
    {
      "cell_type": "code",
      "execution_count": null,
      "metadata": {
        "id": "V_TOl143l9En"
      },
      "outputs": [],
      "source": [
        "#while1.py\n",
        "\n",
        "a = 6\n",
        "while a > 0:\n",
        "    print(a)\n",
        "    a -= 1\n",
        "print(\"離開後a為\",a)\n"
      ]
    },
    {
      "cell_type": "code",
      "execution_count": null,
      "metadata": {
        "id": "G1-dVv6Ql9Eo"
      },
      "outputs": [],
      "source": [
        "#Quiz\n",
        "\n",
        "a = 15\n",
        "while a > 0:\n",
        "    print(a)\n",
        "    a -= 2 # a=a-2\n",
        "    "
      ]
    },
    {
      "cell_type": "code",
      "execution_count": null,
      "metadata": {
        "id": "COKdbYqHl9Ep"
      },
      "outputs": [],
      "source": [
        "#for1.py\n",
        "\n",
        "print(\"一個參數\")\n",
        "for i in range(10):\n",
        "    print(i)\n",
        "print(\"離開後i為\",i)\n"
      ]
    },
    {
      "cell_type": "code",
      "execution_count": null,
      "metadata": {
        "id": "GaGls2jbl9Ep"
      },
      "outputs": [],
      "source": [
        "#for2.py\n",
        "\n",
        "print(\"兩個參數\")\n",
        "for i in range(4,8):\n",
        "    print(i)\n",
        "print(\"離開後i為\",i)\n"
      ]
    },
    {
      "cell_type": "code",
      "execution_count": null,
      "metadata": {
        "id": "Lzx53Q0Jl9Ep"
      },
      "outputs": [],
      "source": [
        "#for3-1.py\n",
        "\n",
        "print(\"三個參數\")\n",
        "for i in range(4,0,-1):\n",
        "    print(i)\n",
        "print(\"離開後i為\",i)\n"
      ]
    },
    {
      "cell_type": "code",
      "execution_count": null,
      "metadata": {
        "id": "Z7fZzgigl9Eq"
      },
      "outputs": [],
      "source": [
        "#for3-2.py\n",
        "\n",
        "print(\"三個參數\")\n",
        "for i in range(4,8,2):\n",
        "    print(i)\n",
        "print(\"離開後i為\",i)\n"
      ]
    },
    {
      "cell_type": "code",
      "execution_count": null,
      "metadata": {
        "id": "MQn09viHl9Er"
      },
      "outputs": [],
      "source": [
        "#break.py\n",
        "\n",
        "i = ['a', 'b', 'c', 'd']\n",
        "for   j   in   i:\n",
        "    if   j == 'c':\n",
        "        break\n",
        "    print(j)\n"
      ]
    },
    {
      "cell_type": "code",
      "execution_count": null,
      "metadata": {
        "id": "nvR7o0mOl9Er"
      },
      "outputs": [],
      "source": [
        "#continue.py\n",
        "\n",
        "i = ['a', 'b', 'c', 'd']\n",
        "for   j   in   i:\n",
        "    if   j == 'c':\n",
        "        continue\n",
        "    print(j)\n"
      ]
    },
    {
      "cell_type": "code",
      "execution_count": null,
      "metadata": {
        "id": "jFpnl4EQl9Es"
      },
      "outputs": [],
      "source": [
        "#string0.py\n",
        "\n",
        "str = 'This is  \"Python\"  !'\n",
        "print(str)\n",
        "str = \"This is \\\"Python\\\"  !\"\n",
        "print(str)\n",
        "str = \"test1 \\n test2\\\\test3\"\n",
        "print(str)\n"
      ]
    },
    {
      "cell_type": "code",
      "execution_count": null,
      "metadata": {
        "id": "zPU_TAx9l9Es"
      },
      "outputs": [],
      "source": [
        "#string1.py\n",
        "#Python 沒有多行註解\n",
        "\n",
        "str3= \" \" \"\n",
        "多行\n",
        "字串1\n",
        "\" \" \"\n",
        "\n",
        "str4= ' ' '\n",
        "多行\n",
        "字串2\n",
        "' ' '\n",
        "\n",
        "print(\"字串1:\", str3)\n",
        "print(\"字串2:\", str4)"
      ]
    },
    {
      "cell_type": "code",
      "execution_count": null,
      "metadata": {
        "id": "rRU55Ae5l9Es"
      },
      "outputs": [],
      "source": [
        "#string3.py\n",
        "\n",
        "mystring1=\"Hello World\"\n",
        "print(mystring1[0])\n",
        "print(mystring1[2])\n",
        "print(mystring1[-1])\n",
        "print(mystring1[-2])\n",
        "print(mystring1[2:])\n",
        "print(mystring1[:3])\n",
        "print(mystring1[1:4])\n"
      ]
    },
    {
      "cell_type": "code",
      "execution_count": null,
      "metadata": {
        "id": "5qPJoSYMl9Et"
      },
      "outputs": [],
      "source": [
        "#string4.py\n",
        "\n",
        "str=\"This is Python,That is Java;This is SQLite,That is MySQL\"\n",
        "print(\"原本的字串:\",str)\n",
        "print( )\n",
        "print(\"is 替換為-:\"+str.replace(\"is\",\"-\"))\n",
        "print( )\n",
        "str=\"This is Python,That is Java;This is SQLite,That is MySQL\"\n",
        "print(\"原本的字串:\",str)\n",
        "print( )\n",
        "print(\"加上參數值2:\"+str.replace(\"is\",\"-\",2))\n",
        "print( )\n"
      ]
    },
    {
      "cell_type": "code",
      "execution_count": null,
      "metadata": {
        "id": "Uz2_aGA0l9Et"
      },
      "outputs": [],
      "source": [
        "#string5.py\n",
        "\n",
        "str1 = \"this is Python Tutorial, there\"\n",
        "search1 = \"Python\"\n",
        "print(str1.find(search1))\n",
        "search2= \"not\"\n",
        "print(str1.find(search2))\n",
        "search3=\"t\"\n",
        "print(str1.find(search3))\n",
        "print(str1.find(search3,4))\n",
        "print(str1.find(search3,11,20))\n"
      ]
    },
    {
      "cell_type": "code",
      "execution_count": null,
      "metadata": {
        "id": "3ZnxDAool9Eu"
      },
      "outputs": [],
      "source": [
        "#string6.py\n",
        "\n",
        "str1 = \"-\"\n",
        "str2 = (\"a\", \"b\", \"c\")\n",
        "print(str1.join(str2))\n",
        "str2 = (\"abc\", “xyz\", “123\")\n",
        "print(str1.join(str2))\n",
        "str3=\":\".join(\"Python\")\n",
        "print(str3)\n",
        "str4 = \"python-java-c++-ruby\"\n",
        "print(str4.split('-'))\n",
        "print(str4.split('-',1))\n"
      ]
    }
  ],
  "metadata": {
    "kernelspec": {
      "display_name": "Python 3",
      "language": "python",
      "name": "python3"
    },
    "language_info": {
      "codemirror_mode": {
        "name": "ipython",
        "version": 3
      },
      "file_extension": ".py",
      "mimetype": "text/x-python",
      "name": "python",
      "nbconvert_exporter": "python",
      "pygments_lexer": "ipython3",
      "version": "3.7.1"
    },
    "colab": {
      "name": "Python_03.ipynb",
      "provenance": [],
      "include_colab_link": true
    }
  },
  "nbformat": 4,
  "nbformat_minor": 0
}